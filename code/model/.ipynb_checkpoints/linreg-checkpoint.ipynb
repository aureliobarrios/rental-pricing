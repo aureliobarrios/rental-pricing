{
 "cells": [
  {
   "cell_type": "markdown",
   "metadata": {},
   "source": [
    "# Linear Regression\n",
    "\n",
    "To predict our rental housing prices, we will begin with a linear regression model. To find out more about the maths behind regression, check out the [following article](https://onlinestatbook.com/2/regression/regression.html)."
   ]
  },
  {
   "cell_type": "code",
   "execution_count": 13,
   "metadata": {},
   "outputs": [],
   "source": [
    "\"\"\"\n",
    "A simple linear regression model with all predictors and target variable of\n",
    "price of unit area.\n",
    "\"\"\"\n",
    "\n",
    "from sklearn.linear_model import LinearRegression\n",
    "from sklearn.model_selection import train_test_split\n",
    "from sklearn.metrics import mean_squared_error\n",
    "from sklearn.metrics import r2_score\n",
    "\n",
    "import pandas as pd\n",
    "import pickle"
   ]
  },
  {
   "cell_type": "code",
   "execution_count": 14,
   "metadata": {},
   "outputs": [
    {
     "name": "stdout",
     "output_type": "stream",
     "text": [
      "Linear Regression Results Training Set\n",
      "R-Squared on Train Set: 0.5428148129242119\n",
      "MSE on Train Set: 89.14439617052061\n",
      "------------------------\n",
      "Linear Regression Results Test Set\n",
      "R-Squared on Test Set: 0.5431919915215544\n",
      "MSE on Test Set: 65.03028517741227\n"
     ]
    }
   ],
   "source": [
    "# TODO: complete the following file by implementing the listed steps\n",
    "# 1) load in your dataframe using pandas\n",
    "df = pd.read_csv(\"../../data/processed/estate_clean.csv\")\n",
    "# 2) Split your data into an \"X\" set of all numeric predictors\n",
    "#   and a \"y\" set of the unit price\n",
    "X = df.drop('price_unit_area', axis=1)\n",
    "y = df['price_unit_area']\n",
    "# 3) Split your X & y data into a training and testing set\n",
    "X_train, X_test, y_train, y_test = train_test_split(X, y, test_size=0.20, shuffle=True)\n",
    "# 4) Create a linear regression object, and fit your data\n",
    "reg = LinearRegression().fit(X_train, y_train)\n",
    "\n",
    "y_hat_train = reg.predict(X_train)\n",
    "# 5) Calculate the R2 and MSE of your linear regressor\n",
    "r2_train = r2_score(y_train, y_hat_train)\n",
    "mse_train = mean_squared_error(y_train, y_hat_train)\n",
    "print(\"Linear Regression Results Training Set\")\n",
    "print(\"R-Squared on Train Set:\", r2_train)\n",
    "print(\"MSE on Train Set:\", mse_train)\n",
    "# article: https://realpython.com/linear-regression-in-python/\n",
    "\n",
    "y_hat_test = reg.predict(X_test)\n",
    "\n",
    "r2_test = r2_score(y_test, y_hat_test)\n",
    "mse_test = mean_squared_error(y_test, y_hat_test)\n",
    "print(\"------------------------\")\n",
    "print(\"Linear Regression Results Test Set\")\n",
    "print(\"R-Squared on Test Set:\", r2_test)\n",
    "print(\"MSE on Test Set:\", mse_test)\n",
    "\n",
    "# serialize and save the model\n",
    "#   (uncomment this line of code once you're done implementing this)\n",
    "pickle.dump(reg, open(\"../../code/model/saved_models/linreg.sav\", 'wb'))"
   ]
  },
  {
   "cell_type": "code",
   "execution_count": null,
   "metadata": {},
   "outputs": [],
   "source": []
  }
 ],
 "metadata": {
  "kernelspec": {
   "display_name": "Python 3",
   "language": "python",
   "name": "python3"
  },
  "language_info": {
   "codemirror_mode": {
    "name": "ipython",
    "version": 3
   },
   "file_extension": ".py",
   "mimetype": "text/x-python",
   "name": "python",
   "nbconvert_exporter": "python",
   "pygments_lexer": "ipython3",
   "version": "3.8.5"
  }
 },
 "nbformat": 4,
 "nbformat_minor": 2
}
